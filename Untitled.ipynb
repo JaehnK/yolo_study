{
 "cells": [
  {
   "cell_type": "code",
   "execution_count": null,
   "id": "3e537286-bb6b-4594-aca9-8b1cccb8b5e7",
   "metadata": {},
   "outputs": [],
   "source": [
    "import os\n",
    "import cv2\n",
    "from ultralytics import YOLO"
   ]
  },
  {
   "cell_type": "code",
   "execution_count": 3,
   "id": "d2042db2-ec14-45e9-94db-9b5d1a6c5212",
   "metadata": {},
   "outputs": [
    {
     "name": "stdout",
     "output_type": "stream",
     "text": [
      "Downloading https://github.com/ultralytics/assets/releases/download/v8.2.0/yolov8n.pt to 'yolov8n.pt'...\n"
     ]
    },
    {
     "name": "stderr",
     "output_type": "stream",
     "text": [
      "100%|█████████████████████████████████████████████████| 6.23M/6.23M [00:00<00:00, 8.32MB/s]\n"
     ]
    }
   ],
   "source": [
    "model = YOLO(\"yolov8n.pt\")"
   ]
  },
  {
   "cell_type": "code",
   "execution_count": null,
   "id": "8895c1c5-7a08-44c4-93fe-c5dd3219f7d9",
   "metadata": {},
   "outputs": [],
   "source": [
    "test_path = \"./CAFD/test\" \n",
    "img = cv2.imread(\"./CAFD/test/achichuk/13251.jpg\")\n",
    "cv2.imshow('img')"
   ]
  },
  {
   "cell_type": "code",
   "execution_count": null,
   "id": "bd1c4f4b-afae-4c5a-93e5-6bd7047ebee2",
   "metadata": {},
   "outputs": [],
   "source": []
  }
 ],
 "metadata": {
  "kernelspec": {
   "display_name": "python_yolo",
   "language": "python",
   "name": "torch1.9"
  },
  "language_info": {
   "codemirror_mode": {
    "name": "ipython",
    "version": 3
   },
   "file_extension": ".py",
   "mimetype": "text/x-python",
   "name": "python",
   "nbconvert_exporter": "python",
   "pygments_lexer": "ipython3",
   "version": "3.9.19"
  }
 },
 "nbformat": 4,
 "nbformat_minor": 5
}
