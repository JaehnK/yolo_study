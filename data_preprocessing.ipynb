{
 "cells": [
  {
   "cell_type": "code",
   "execution_count": 8,
   "id": "7ef1564c-f55a-423a-92f3-1929ae765050",
   "metadata": {},
   "outputs": [],
   "source": [
    "import os\n",
    "import yaml\n",
    "\n",
    "import cv2\n",
    "from ultralytics import YOLO"
   ]
  },
  {
   "cell_type": "code",
   "execution_count": 7,
   "id": "bb3fc3a1-1d70-4985-abda-73fdf5e5ce85",
   "metadata": {},
   "outputs": [],
   "source": [
    "model = YOLO(\"./yolov8n.pt\")"
   ]
  },
  {
   "cell_type": "code",
   "execution_count": 16,
   "id": "abda80c4-4f33-48ec-bbf6-b436fb9dc487",
   "metadata": {},
   "outputs": [
    {
     "name": "stdout",
     "output_type": "stream",
     "text": [
      "./ test_images/asia_food_test4.jpg\n",
      "\n",
      "image 1/1 /home/jaehun/yolo/ test_images/asia_food_test4.jpg: 352x640 1 sandwich, 10.0ms\n",
      "Speed: 9.4ms preprocess, 10.0ms inference, 1.2ms postprocess per image at shape (1, 3, 352, 640)\n",
      "./ test_images/asia_food_test3.jpg\n",
      "\n",
      "image 1/1 /home/jaehun/yolo/ test_images/asia_food_test3.jpg: 384x640 1 person, 1 cup, 1 spoon, 7 bowls, 1 dining table, 10.9ms\n",
      "Speed: 1.8ms preprocess, 10.9ms inference, 1.5ms postprocess per image at shape (1, 3, 384, 640)\n",
      "./ test_images/asia_food_test.jpg\n",
      "\n",
      "image 1/1 /home/jaehun/yolo/ test_images/asia_food_test.jpg: 384x640 6 persons, 1 umbrella, 9.1ms\n",
      "Speed: 2.1ms preprocess, 9.1ms inference, 1.7ms postprocess per image at shape (1, 3, 384, 640)\n",
      "./ test_images/asia_food_test2.jpg\n",
      "\n",
      "image 1/1 /home/jaehun/yolo/ test_images/asia_food_test2.jpg: 384x640 3 bears, 11.6ms\n",
      "Speed: 2.5ms preprocess, 11.6ms inference, 3.7ms postprocess per image at shape (1, 3, 384, 640)\n"
     ]
    },
    {
     "name": "stderr",
     "output_type": "stream",
     "text": [
      "\n",
      "(eog:25029): EOG-WARNING **: 17:21:56.960: Generating thumbnail failed: 하위 프로세스가 1 코드로 끝났습니다\n",
      "\n",
      "(eog:25029): EOG-WARNING **: 17:21:56.960: Thumbnail creation failed\n",
      "\n",
      "(eog:25029): EOG-WARNING **: 17:21:56.961: Thumbnail creation failed\n",
      "\n",
      "(eog:25029): EOG-WARNING **: 17:21:57.104: Thumbnail creation failed\n",
      "\n",
      "(eog:25029): EOG-WARNING **: 17:21:57.105: Thumbnail creation failed\n",
      "\n",
      "(eog:25029): EOG-WARNING **: 17:21:57.105: Thumbnail creation failed\n",
      "\n",
      "(eog:25029): EOG-WARNING **: 17:21:57.105: Thumbnail creation failed\n"
     ]
    },
    {
     "name": "stdout",
     "output_type": "stream",
     "text": [
      "./ test_images/korea_food_test.jpg\n",
      "\n",
      "image 1/1 /home/jaehun/yolo/ test_images/korea_food_test.jpg: 352x640 7 persons, 1 cup, 12.0ms\n",
      "Speed: 3.8ms preprocess, 12.0ms inference, 1.6ms postprocess per image at shape (1, 3, 352, 640)\n",
      "./ test_images/korea_food_test2.jpg\n",
      "\n",
      "image 1/1 /home/jaehun/yolo/ test_images/korea_food_test2.jpg: 384x640 1 pizza, 11.5ms\n",
      "Speed: 2.6ms preprocess, 11.5ms inference, 1.5ms postprocess per image at shape (1, 3, 384, 640)\n"
     ]
    },
    {
     "name": "stderr",
     "output_type": "stream",
     "text": [
      "\n",
      "(eog:25029): EOG-WARNING **: 17:21:57.286: Generating thumbnail failed: 하위 프로세스가 1 코드로 끝났습니다\n",
      "\n",
      "(eog:25029): EOG-WARNING **: 17:21:57.288: Thumbnail creation failed\n",
      "\n",
      "(eog:25029): EOG-WARNING **: 17:21:57.288: Thumbnail creation failed\n",
      "\n",
      "(eog:25029): EOG-WARNING **: 17:21:57.288: Thumbnail creation failed\n",
      "\n",
      "(eog:25029): EOG-WARNING **: 17:21:57.288: Thumbnail creation failed\n",
      "\n",
      "(eog:25029): EOG-WARNING **: 17:21:57.318: Thumbnail creation failed\n",
      "\n",
      "(eog:25029): EOG-WARNING **: 17:21:57.331: Generating thumbnail failed: 하위 프로세스가 1 코드로 끝났습니다\n",
      "\n",
      "(eog:25029): EOG-WARNING **: 17:21:57.332: Thumbnail creation failed\n",
      "\n",
      "(eog:25029): EOG-WARNING **: 17:21:57.332: Thumbnail creation failed\n",
      "\n",
      "(eog:25029): EOG-WARNING **: 17:21:57.332: Thumbnail creation failed\n",
      "\n",
      "(eog:25029): EOG-WARNING **: 17:21:57.332: Thumbnail creation failed\n",
      "\n",
      "(eog:25029): EOG-WARNING **: 17:21:57.333: Thumbnail creation failed\n",
      "\n",
      "(eog:25029): EOG-WARNING **: 17:21:57.333: Thumbnail creation failed\n",
      "\n",
      "(eog:25029): EOG-WARNING **: 17:21:57.334: Thumbnail creation failed\n",
      "\n",
      "(eog:25029): EOG-WARNING **: 17:21:57.334: Thumbnail creation failed\n",
      "\n",
      "(eog:25029): EOG-WARNING **: 17:21:57.434: Thumbnail creation failed\n",
      "\n",
      "(eog:25029): EOG-WARNING **: 17:21:57.435: Thumbnail creation failed\n",
      "\n",
      "(eog:25029): EOG-WARNING **: 17:21:57.435: Thumbnail creation failed\n",
      "\n",
      "(eog:25029): EOG-WARNING **: 17:21:57.435: Thumbnail creation failed\n",
      "\n",
      "(eog:25029): EOG-WARNING **: 17:21:57.435: Thumbnail creation failed\n",
      "\n",
      "(eog:25029): EOG-WARNING **: 17:21:57.435: Thumbnail creation failed\n",
      "\n",
      "(eog:25029): EOG-WARNING **: 17:21:57.501: Thumbnail creation failed\n",
      "\n",
      "(eog:25029): EOG-WARNING **: 17:21:57.523: Generating thumbnail failed: 하위 프로세스가 1 코드로 끝났습니다\n",
      "\n",
      "(eog:25029): EOG-WARNING **: 17:21:57.523: Thumbnail creation failed\n",
      "\n",
      "(eog:25029): EOG-WARNING **: 17:21:57.524: Thumbnail creation failed\n",
      "\n",
      "(eog:25029): EOG-WARNING **: 17:21:57.525: Thumbnail creation failed\n",
      "\n",
      "(eog:25029): EOG-WARNING **: 17:21:57.525: Thumbnail creation failed\n",
      "\n",
      "(eog:25029): EOG-WARNING **: 17:21:57.526: Thumbnail creation failed\n",
      "\n",
      "(eog:25029): EOG-WARNING **: 17:21:57.527: Thumbnail creation failed\n",
      "\n",
      "(eog:25029): EOG-WARNING **: 17:21:57.591: Thumbnail creation failed\n",
      "\n",
      "(eog:25029): EOG-WARNING **: 17:21:57.592: Thumbnail creation failed\n",
      "\n",
      "(eog:25029): EOG-WARNING **: 17:21:57.592: Thumbnail creation failed\n",
      "\n",
      "(eog:25029): EOG-WARNING **: 17:21:57.593: Thumbnail creation failed\n",
      "\n",
      "(eog:25029): EOG-WARNING **: 17:21:57.593: Thumbnail creation failed\n",
      "\n",
      "(eog:25029): EOG-WARNING **: 17:21:57.593: Thumbnail creation failed\n",
      "\n",
      "(eog:25029): EOG-WARNING **: 17:21:57.594: Thumbnail creation failed\n",
      "\n",
      "(eog:25029): EOG-WARNING **: 17:21:57.594: Thumbnail creation failed\n",
      "\n",
      "(eog:25029): EOG-WARNING **: 17:21:57.647: Thumbnail creation failed\n",
      "\n",
      "(eog:25029): EOG-WARNING **: 17:21:57.745: Thumbnail creation failed\n",
      "\n",
      "(eog:25029): EOG-WARNING **: 17:21:57.829: Thumbnail creation failed\n",
      "\n",
      "(eog:25029): EOG-WARNING **: 17:22:01.361: Thumbnail creation failed\n",
      "\n",
      "(eog:25029): EOG-WARNING **: 17:22:04.013: Thumbnail creation failed\n"
     ]
    }
   ],
   "source": [
    "test_path = \"./ test_images/\"\n",
    "imgs = os.listdir(test_path)\n",
    "for img in imgs:\n",
    "    print(os.path.join(test_path, img))\n",
    "    results = model.predict(os.path.join(test_path, img))\n",
    "    for result in results:\n",
    "        boxes = result.boxes  # Boxes object for bounding box outputs\n",
    "        masks = result.masks  # Masks object for segmentation masks outputs\n",
    "        keypoints = result.keypoints  # Keypoints object for pose outputs\n",
    "        probs = result.probs  # Probs object for classification outputs\n",
    "        obb = result.obb  # Oriented boxes object for OBB outputs\n",
    "        result.show()  # display to screen\n",
    "        result.save(filename=\"result.jpg\")  # save to disk"
   ]
  },
  {
   "cell_type": "code",
   "execution_count": 14,
   "id": "afc9d19f-9f29-4fda-8de9-ac2f24003725",
   "metadata": {},
   "outputs": [
    {
     "ename": "AttributeError",
     "evalue": "'list' object has no attribute 'boxes'",
     "output_type": "error",
     "traceback": [
      "\u001b[0;31m---------------------------------------------------------------------------\u001b[0m",
      "\u001b[0;31mAttributeError\u001b[0m                            Traceback (most recent call last)",
      "Cell \u001b[0;32mIn[14], line 2\u001b[0m\n\u001b[1;32m      1\u001b[0m \u001b[38;5;28;01mfor\u001b[39;00m result \u001b[38;5;129;01min\u001b[39;00m results:\n\u001b[0;32m----> 2\u001b[0m     boxes \u001b[38;5;241m=\u001b[39m \u001b[43mresult\u001b[49m\u001b[38;5;241;43m.\u001b[39;49m\u001b[43mboxes\u001b[49m  \u001b[38;5;66;03m# Boxes object for bounding box outputs\u001b[39;00m\n\u001b[1;32m      3\u001b[0m     masks \u001b[38;5;241m=\u001b[39m result\u001b[38;5;241m.\u001b[39mmasks  \u001b[38;5;66;03m# Masks object for segmentation masks outputs\u001b[39;00m\n\u001b[1;32m      4\u001b[0m     keypoints \u001b[38;5;241m=\u001b[39m result\u001b[38;5;241m.\u001b[39mkeypoints  \u001b[38;5;66;03m# Keypoints object for pose outputs\u001b[39;00m\n",
      "\u001b[0;31mAttributeError\u001b[0m: 'list' object has no attribute 'boxes'"
     ]
    }
   ],
   "source": []
  },
  {
   "cell_type": "code",
   "execution_count": null,
   "id": "015880e0-58dc-490e-bc67-7eceecc3cf50",
   "metadata": {},
   "outputs": [],
   "source": []
  }
 ],
 "metadata": {
  "kernelspec": {
   "display_name": "python_yolo",
   "language": "python",
   "name": "torch1.9"
  },
  "language_info": {
   "codemirror_mode": {
    "name": "ipython",
    "version": 3
   },
   "file_extension": ".py",
   "mimetype": "text/x-python",
   "name": "python",
   "nbconvert_exporter": "python",
   "pygments_lexer": "ipython3",
   "version": "3.9.19"
  }
 },
 "nbformat": 4,
 "nbformat_minor": 5
}
